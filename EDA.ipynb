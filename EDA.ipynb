{
 "cells": [
  {
   "cell_type": "code",
   "execution_count": 13,
   "id": "orange-party",
   "metadata": {},
   "outputs": [],
   "source": [
    "%matplotlib inline\n",
    "import pandas as pd \n",
    "import numpy as np\n",
    "import matplotlib.pyplot as plt\n",
    "pd.set_option('display.max_columns', None)"
   ]
  },
  {
   "cell_type": "code",
   "execution_count": 2,
   "id": "spatial-aside",
   "metadata": {},
   "outputs": [],
   "source": [
    "data = pd.read_csv(\"./data/pilot/Matt_test.csv\",header=0)"
   ]
  },
  {
   "cell_type": "code",
   "execution_count": 5,
   "id": "actual-drinking",
   "metadata": {},
   "outputs": [],
   "source": [
    "data = data.iloc[24,:]"
   ]
  },
  {
   "cell_type": "code",
   "execution_count": 6,
   "id": "portable-characteristic",
   "metadata": {
    "scrolled": true
   },
   "outputs": [],
   "source": [
    "data = data.to_frame()"
   ]
  },
  {
   "cell_type": "code",
   "execution_count": 7,
   "id": "fewer-somalia",
   "metadata": {},
   "outputs": [],
   "source": [
    "data.reset_index(inplace=True)"
   ]
  },
  {
   "cell_type": "code",
   "execution_count": 8,
   "id": "brilliant-gallery",
   "metadata": {
    "scrolled": true
   },
   "outputs": [],
   "source": [
    "data.dropna(inplace=True)"
   ]
  },
  {
   "cell_type": "code",
   "execution_count": 9,
   "id": "stretch-warehouse",
   "metadata": {
    "scrolled": false
   },
   "outputs": [],
   "source": [
    "data = data.set_index('index').T"
   ]
  },
  {
   "cell_type": "code",
   "execution_count": 10,
   "id": "seven-assurance",
   "metadata": {},
   "outputs": [
    {
     "data": {
      "text/plain": [
       "Index(['StartDate', 'EndDate', 'Status', 'IPAddress', 'Progress',\n",
       "       'Duration (in seconds)', 'Finished', 'RecordedDate', 'ResponseId',\n",
       "       'LocationLatitude', 'LocationLongitude', 'DistributionChannel',\n",
       "       'UserLanguage', 'Q_RecaptchaScore', 'LC - 2', 'LC - 3', 'LC - 4',\n",
       "       'Q238', 'LC 5', 'Q216_First Click', 'Q216_Last Click',\n",
       "       'Q216_Page Submit', 'Q216_Click Count', 'LC 6_First Click',\n",
       "       'LC 6_Last Click', 'LC 6_Page Submit', 'LC 6_Click Count', 'Q246',\n",
       "       'Q247', 'LC 9_First Click', 'LC 9_Last Click', 'LC 9_Page Submit',\n",
       "       'LC 9_Click Count', 'LC 13', 'LC 14', 'LC 15', 'LC 16', 'LC 17',\n",
       "       'LC 18', 'LC 20', 'LC 19', 'LC 21', 'LC 22', 'LC 23', 'LC 24', 'LC 25',\n",
       "       'LC 26', 'LC 27', 'LC 28', 'Q217_First Click', 'Q217_Last Click',\n",
       "       'Q217_Page Submit', 'Q217_Click Count', 'LC 29', 'Q218_First Click',\n",
       "       'Q218_Last Click', 'Q218_Page Submit', 'Q218_Click Count', 'LC 31',\n",
       "       'Q243', 'Q219_First Click', 'Q219_Last Click', 'Q219_Page Submit',\n",
       "       'Q219_Click Count', 'Timing Question 1', 'Timing Question 2', 'SC0',\n",
       "       'Finished.1', 'RandomID'],\n",
       "      dtype='object', name='index')"
      ]
     },
     "execution_count": 10,
     "metadata": {},
     "output_type": "execute_result"
    }
   ],
   "source": [
    "data.columns"
   ]
  },
  {
   "cell_type": "code",
   "execution_count": 14,
   "id": "reduced-smell",
   "metadata": {},
   "outputs": [
    {
     "data": {
      "text/html": [
       "<div>\n",
       "<style scoped>\n",
       "    .dataframe tbody tr th:only-of-type {\n",
       "        vertical-align: middle;\n",
       "    }\n",
       "\n",
       "    .dataframe tbody tr th {\n",
       "        vertical-align: top;\n",
       "    }\n",
       "\n",
       "    .dataframe thead th {\n",
       "        text-align: right;\n",
       "    }\n",
       "</style>\n",
       "<table border=\"1\" class=\"dataframe\">\n",
       "  <thead>\n",
       "    <tr style=\"text-align: right;\">\n",
       "      <th>index</th>\n",
       "      <th>StartDate</th>\n",
       "      <th>EndDate</th>\n",
       "      <th>Status</th>\n",
       "      <th>IPAddress</th>\n",
       "      <th>Progress</th>\n",
       "      <th>Duration (in seconds)</th>\n",
       "      <th>Finished</th>\n",
       "      <th>RecordedDate</th>\n",
       "      <th>ResponseId</th>\n",
       "      <th>LocationLatitude</th>\n",
       "      <th>LocationLongitude</th>\n",
       "      <th>DistributionChannel</th>\n",
       "      <th>UserLanguage</th>\n",
       "      <th>Q_RecaptchaScore</th>\n",
       "      <th>LC - 2</th>\n",
       "      <th>LC - 3</th>\n",
       "      <th>LC - 4</th>\n",
       "      <th>Q238</th>\n",
       "      <th>LC 5</th>\n",
       "      <th>Q216_First Click</th>\n",
       "      <th>Q216_Last Click</th>\n",
       "      <th>Q216_Page Submit</th>\n",
       "      <th>Q216_Click Count</th>\n",
       "      <th>LC 6_First Click</th>\n",
       "      <th>LC 6_Last Click</th>\n",
       "      <th>LC 6_Page Submit</th>\n",
       "      <th>LC 6_Click Count</th>\n",
       "      <th>Q246</th>\n",
       "      <th>Q247</th>\n",
       "      <th>LC 9_First Click</th>\n",
       "      <th>LC 9_Last Click</th>\n",
       "      <th>LC 9_Page Submit</th>\n",
       "      <th>LC 9_Click Count</th>\n",
       "      <th>LC 13</th>\n",
       "      <th>LC 14</th>\n",
       "      <th>LC 15</th>\n",
       "      <th>LC 16</th>\n",
       "      <th>LC 17</th>\n",
       "      <th>LC 18</th>\n",
       "      <th>LC 20</th>\n",
       "      <th>LC 19</th>\n",
       "      <th>LC 21</th>\n",
       "      <th>LC 22</th>\n",
       "      <th>LC 23</th>\n",
       "      <th>LC 24</th>\n",
       "      <th>LC 25</th>\n",
       "      <th>LC 26</th>\n",
       "      <th>LC 27</th>\n",
       "      <th>LC 28</th>\n",
       "      <th>Q217_First Click</th>\n",
       "      <th>Q217_Last Click</th>\n",
       "      <th>Q217_Page Submit</th>\n",
       "      <th>Q217_Click Count</th>\n",
       "      <th>LC 29</th>\n",
       "      <th>Q218_First Click</th>\n",
       "      <th>Q218_Last Click</th>\n",
       "      <th>Q218_Page Submit</th>\n",
       "      <th>Q218_Click Count</th>\n",
       "      <th>LC 31</th>\n",
       "      <th>Q243</th>\n",
       "      <th>Q219_First Click</th>\n",
       "      <th>Q219_Last Click</th>\n",
       "      <th>Q219_Page Submit</th>\n",
       "      <th>Q219_Click Count</th>\n",
       "      <th>Timing Question 1</th>\n",
       "      <th>Timing Question 2</th>\n",
       "      <th>SC0</th>\n",
       "      <th>Finished.1</th>\n",
       "      <th>RandomID</th>\n",
       "    </tr>\n",
       "  </thead>\n",
       "  <tbody>\n",
       "    <tr>\n",
       "      <th>24</th>\n",
       "      <td>2021-03-29 11:44:30</td>\n",
       "      <td>2021-03-29 11:52:59</td>\n",
       "      <td>0</td>\n",
       "      <td>212.102.46.40</td>\n",
       "      <td>100</td>\n",
       "      <td>508</td>\n",
       "      <td>1</td>\n",
       "      <td>2021-03-29 11:52:59</td>\n",
       "      <td>R_1KoKehVRURQ8z35</td>\n",
       "      <td>47.6143951416015625</td>\n",
       "      <td>-122.344696044921875</td>\n",
       "      <td>anonymous</td>\n",
       "      <td>EN</td>\n",
       "      <td>0.90000000000000002220446049250313080847263336...</td>\n",
       "      <td>1</td>\n",
       "      <td>1</td>\n",
       "      <td>1</td>\n",
       "      <td>2</td>\n",
       "      <td>2</td>\n",
       "      <td>76.021</td>\n",
       "      <td>112.537</td>\n",
       "      <td>115.473</td>\n",
       "      <td>5</td>\n",
       "      <td>8.684</td>\n",
       "      <td>26.221</td>\n",
       "      <td>185.118</td>\n",
       "      <td>3</td>\n",
       "      <td>15</td>\n",
       "      <td>chandelier, heart, lizard, tooth, rocket</td>\n",
       "      <td>0</td>\n",
       "      <td>0</td>\n",
       "      <td>65.014</td>\n",
       "      <td>0</td>\n",
       "      <td>85</td>\n",
       "      <td>91</td>\n",
       "      <td>5</td>\n",
       "      <td>2</td>\n",
       "      <td>76</td>\n",
       "      <td>13</td>\n",
       "      <td>43</td>\n",
       "      <td>1</td>\n",
       "      <td>20</td>\n",
       "      <td>20</td>\n",
       "      <td>2</td>\n",
       "      <td>99</td>\n",
       "      <td>71</td>\n",
       "      <td>5</td>\n",
       "      <td>16</td>\n",
       "      <td>55</td>\n",
       "      <td>3.238</td>\n",
       "      <td>85.023</td>\n",
       "      <td>106.804</td>\n",
       "      <td>23</td>\n",
       "      <td>4</td>\n",
       "      <td>2.328</td>\n",
       "      <td>2.328</td>\n",
       "      <td>5.906</td>\n",
       "      <td>1</td>\n",
       "      <td>3</td>\n",
       "      <td>3</td>\n",
       "      <td>3.668</td>\n",
       "      <td>5.951</td>\n",
       "      <td>7.291</td>\n",
       "      <td>2</td>\n",
       "      <td>2</td>\n",
       "      <td>3</td>\n",
       "      <td>12</td>\n",
       "      <td>1</td>\n",
       "      <td>29618</td>\n",
       "    </tr>\n",
       "  </tbody>\n",
       "</table>\n",
       "</div>"
      ],
      "text/plain": [
       "index            StartDate              EndDate Status      IPAddress  \\\n",
       "24     2021-03-29 11:44:30  2021-03-29 11:52:59      0  212.102.46.40   \n",
       "\n",
       "index Progress Duration (in seconds) Finished         RecordedDate  \\\n",
       "24         100                   508        1  2021-03-29 11:52:59   \n",
       "\n",
       "index         ResponseId     LocationLatitude     LocationLongitude  \\\n",
       "24     R_1KoKehVRURQ8z35  47.6143951416015625  -122.344696044921875   \n",
       "\n",
       "index DistributionChannel UserLanguage  \\\n",
       "24              anonymous           EN   \n",
       "\n",
       "index                                   Q_RecaptchaScore LC - 2 LC - 3 LC - 4  \\\n",
       "24     0.90000000000000002220446049250313080847263336...      1      1      1   \n",
       "\n",
       "index Q238 LC 5 Q216_First Click Q216_Last Click Q216_Page Submit  \\\n",
       "24       2    2           76.021         112.537          115.473   \n",
       "\n",
       "index Q216_Click Count LC 6_First Click LC 6_Last Click LC 6_Page Submit  \\\n",
       "24                   5            8.684          26.221          185.118   \n",
       "\n",
       "index LC 6_Click Count Q246                                      Q247  \\\n",
       "24                   3   15  chandelier, heart, lizard, tooth, rocket   \n",
       "\n",
       "index LC 9_First Click LC 9_Last Click LC 9_Page Submit LC 9_Click Count  \\\n",
       "24                   0               0           65.014                0   \n",
       "\n",
       "index LC 13 LC 14 LC 15 LC 16 LC 17 LC 18 LC 20 LC 19 LC 21 LC 22 LC 23 LC 24  \\\n",
       "24       85    91     5     2    76    13    43     1    20    20     2    99   \n",
       "\n",
       "index LC 25 LC 26 LC 27 LC 28 Q217_First Click Q217_Last Click  \\\n",
       "24       71     5    16    55            3.238          85.023   \n",
       "\n",
       "index Q217_Page Submit Q217_Click Count LC 29 Q218_First Click  \\\n",
       "24             106.804               23     4            2.328   \n",
       "\n",
       "index Q218_Last Click Q218_Page Submit Q218_Click Count LC 31 Q243  \\\n",
       "24              2.328            5.906                1     3    3   \n",
       "\n",
       "index Q219_First Click Q219_Last Click Q219_Page Submit Q219_Click Count  \\\n",
       "24               3.668           5.951            7.291                2   \n",
       "\n",
       "index Timing Question 1 Timing Question 2 SC0 Finished.1 RandomID  \n",
       "24                    2                 3  12          1    29618  "
      ]
     },
     "execution_count": 14,
     "metadata": {},
     "output_type": "execute_result"
    }
   ],
   "source": [
    "data"
   ]
  },
  {
   "cell_type": "code",
   "execution_count": 15,
   "id": "lightweight-colorado",
   "metadata": {},
   "outputs": [
    {
     "data": {
      "text/plain": [
       "24    12\n",
       "Name: SC0, dtype: object"
      ]
     },
     "execution_count": 15,
     "metadata": {},
     "output_type": "execute_result"
    }
   ],
   "source": [
    "data[\"SC0\"]"
   ]
  },
  {
   "cell_type": "code",
   "execution_count": 16,
   "id": "alike-saudi",
   "metadata": {},
   "outputs": [
    {
     "data": {
      "text/plain": [
       "24    0.90000000000000002220446049250313080847263336...\n",
       "Name: Q_RecaptchaScore, dtype: object"
      ]
     },
     "execution_count": 16,
     "metadata": {},
     "output_type": "execute_result"
    }
   ],
   "source": [
    "data[\"Q_RecaptchaScore\"]"
   ]
  },
  {
   "cell_type": "code",
   "execution_count": null,
   "id": "downtown-sheep",
   "metadata": {},
   "outputs": [],
   "source": []
  }
 ],
 "metadata": {
  "kernelspec": {
   "display_name": "Python 3",
   "language": "python",
   "name": "python3"
  },
  "language_info": {
   "codemirror_mode": {
    "name": "ipython",
    "version": 3
   },
   "file_extension": ".py",
   "mimetype": "text/x-python",
   "name": "python",
   "nbconvert_exporter": "python",
   "pygments_lexer": "ipython3",
   "version": "3.8.6"
  }
 },
 "nbformat": 4,
 "nbformat_minor": 5
}
